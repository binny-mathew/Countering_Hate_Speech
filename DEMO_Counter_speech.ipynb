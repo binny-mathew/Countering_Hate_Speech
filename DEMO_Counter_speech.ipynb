{
  "nbformat": 4,
  "nbformat_minor": 0,
  "metadata": {
    "colab": {
      "name": "DEMO_Counter_speech.ipynb",
      "version": "0.3.2",
      "provenance": [],
      "collapsed_sections": [],
      "toc_visible": true
    },
    "kernelspec": {
      "name": "python3",
      "display_name": "Python 3"
    }
  },
  "cells": [
    {
      "metadata": {
        "id": "vB9fPSxHsZfq",
        "colab_type": "text"
      },
      "cell_type": "markdown",
      "source": [
        "# Introduction \n",
        "\n",
        "\n",
        "![alt text](https://cached.imagescaler.hbpl.co.uk/resize/scaleWidth/815/cached.offlinehbpl.hbpl.co.uk/news/SUC/hate-20180625032932839.JPG)\n",
        "\n",
        "This notebook provides a demo to use the methods used in the paper with new data. If new to collaboratory ,please check the following [link](https://medium.com/lean-in-women-in-tech-india/google-colab-the-beginners-guide-5ad3b417dfa) to know how to run the code."
      ]
    },
    {
      "metadata": {
        "id": "VWiCkFli4R5t",
        "colab_type": "text"
      },
      "cell_type": "markdown",
      "source": [
        "### Import the required libraries:"
      ]
    },
    {
      "metadata": {
        "id": "H4S_jsN3whqb",
        "colab_type": "code",
        "outputId": "d2bee5d3-8ea7-4af2-85b5-fa8546d1b276",
        "colab": {
          "base_uri": "https://localhost:8080/",
          "height": 68
        }
      },
      "cell_type": "code",
      "source": [
        "#import \n",
        "\n",
        "from gensim.test.utils import datapath, get_tmpfile\n",
        "from gensim.models import KeyedVectors\n",
        "from gensim.scripts.glove2word2vec import glove2word2vec\n",
        "import os\n",
        "import joblib\n",
        "import json\n",
        "import pandas as pd\n",
        "import numpy as np\n",
        "\n",
        "###ipywigets\n",
        "from __future__ import print_function\n",
        "from ipywidgets import interact, interactive, fixed, interact_manual\n",
        "import ipywidgets as widgets\n",
        "\n",
        "\n",
        "from sklearn import *\n",
        "from sklearn.model_selection import *\n",
        "from sklearn.metrics import *\n",
        "\n",
        "import nltk\n",
        "nltk.download('stopwords')\n",
        "  "
      ],
      "execution_count": 0,
      "outputs": [
        {
          "output_type": "stream",
          "text": [
            "[nltk_data] Downloading package stopwords to /root/nltk_data...\n",
            "[nltk_data]   Unzipping corpora/stopwords.zip.\n"
          ],
          "name": "stdout"
        },
        {
          "output_type": "execute_result",
          "data": {
            "text/plain": [
              "True"
            ]
          },
          "metadata": {
            "tags": []
          },
          "execution_count": 1
        }
      ]
    },
    {
      "metadata": {
        "id": "sLM_PY2WBtcC",
        "colab_type": "code",
        "outputId": "fb83cdf7-ccba-4e9f-9f17-f56f6812cae4",
        "colab": {
          "base_uri": "https://localhost:8080/",
          "height": 173
        }
      },
      "cell_type": "code",
      "source": [
        "#copy the git clone address here \n",
        " \n",
        "!git clone https://github.com/binny-mathew/Countering_Hate_Speech.git   \n",
        "#Best binary classifier was XGBclassifier \n",
        "#Best multilabel classifier was XGBclassifier\n",
        "\n",
        "best_binary_classifier = joblib.load('Countering_Hate_Speech/Best_model/XGB_classifier_task_1.joblib.pkl')\n",
        "best_multiclass_classifier = joblib.load('Countering_Hate_Speech/Best_model/XGB_classifier_task_3.joblib.pkl')\n",
        "best_black_classifier = joblib.load('Countering_Hate_Speech/Best_model/black_XGB_classifier_task_2.joblib.pkl')\n",
        "best_jew_classifier = joblib.load('Countering_Hate_Speech/Best_model/jew_XGB_classifier_task_2.joblib.pkl')\n",
        "best_lgbt_classifier = joblib.load('Countering_Hate_Speech/Best_model/lgbt_XGB_classifier_task_2.joblib.pkl')\n",
        "\n"
      ],
      "execution_count": 0,
      "outputs": [
        {
          "output_type": "stream",
          "text": [
            "/usr/local/lib/python3.6/dist-packages/sklearn/base.py:253: UserWarning: Trying to unpickle estimator LogisticRegression from version 0.20.2 when using version 0.20.3. This might lead to breaking code or invalid results. Use at your own risk.\n",
            "  UserWarning)\n",
            "/usr/local/lib/python3.6/dist-packages/sklearn/base.py:253: UserWarning: Trying to unpickle estimator LabelBinarizer from version 0.20.2 when using version 0.20.3. This might lead to breaking code or invalid results. Use at your own risk.\n",
            "  UserWarning)\n",
            "/usr/local/lib/python3.6/dist-packages/sklearn/base.py:253: UserWarning: Trying to unpickle estimator _ConstantPredictor from version 0.20.2 when using version 0.20.3. This might lead to breaking code or invalid results. Use at your own risk.\n",
            "  UserWarning)\n",
            "/usr/local/lib/python3.6/dist-packages/sklearn/base.py:253: UserWarning: Trying to unpickle estimator OneVsRestClassifier from version 0.20.2 when using version 0.20.3. This might lead to breaking code or invalid results. Use at your own risk.\n",
            "  UserWarning)\n"
          ],
          "name": "stderr"
        }
      ]
    },
    {
      "metadata": {
        "id": "W7DsHi5brvJB",
        "colab_type": "text"
      },
      "cell_type": "markdown",
      "source": [
        "###Word Embeddings Loaded Here"
      ]
    },
    {
      "metadata": {
        "id": "mpjSQfe8r_c2",
        "colab_type": "code",
        "outputId": "8d3de17c-9088-4d2d-9687-9057c382e901",
        "colab": {
          "base_uri": "https://localhost:8080/",
          "height": 326
        }
      },
      "cell_type": "code",
      "source": [
        "####downloading the word embeddings\n",
        "!wget http://nlp.stanford.edu/data/glove.840B.300d.zip\n",
        "!unzip glove.840B.300d.zip\n",
        "####extracting the glove model file   \n",
        "#import zipfile\n",
        "#archive = zipfile.ZipFile('glove.840B.300d.zip', 'r')\n",
        "GLOVE_MODEL_FILE ='glove.840B.300d.txt'\n",
        "\n",
        "\n",
        "import numpy as np\n",
        "\n",
        "## change the embedding dimension according to the model\n",
        "EMBEDDING_DIM = 300\n",
        "###change the method type\n",
        "\n",
        "\n",
        "### method two\n",
        "def loadGloveModel2(glove_file):\n",
        "    tmp_file = get_tmpfile(\"test_crawl_200.txt\")\n",
        "\n",
        "    # call glove2word2vec script\n",
        "    # default way (through CLI): python -m gensim.scripts.glove2word2vec --input <glove_file> --output <w2v_file>\n",
        "    glove2word2vec(glove_file, tmp_file)\n",
        "    model=KeyedVectors.load_word2vec_format(tmp_file)\n",
        "    return model\n",
        "\n",
        "\n"
      ],
      "execution_count": 0,
      "outputs": [
        {
          "output_type": "stream",
          "text": [
            "--2019-03-28 11:17:48--  http://nlp.stanford.edu/data/glove.840B.300d.zip\n",
            "Resolving nlp.stanford.edu (nlp.stanford.edu)... 171.64.67.140\n",
            "Connecting to nlp.stanford.edu (nlp.stanford.edu)|171.64.67.140|:80... connected.\n",
            "HTTP request sent, awaiting response... 302 Found\n",
            "Location: https://nlp.stanford.edu/data/glove.840B.300d.zip [following]\n",
            "--2019-03-28 11:17:48--  https://nlp.stanford.edu/data/glove.840B.300d.zip\n",
            "Connecting to nlp.stanford.edu (nlp.stanford.edu)|171.64.67.140|:443... connected.\n",
            "HTTP request sent, awaiting response... 200 OK\n",
            "Length: 2176768927 (2.0G) [application/zip]\n",
            "Saving to: ‘glove.840B.300d.zip’\n",
            "\n",
            "glove.840B.300d.zip 100%[===================>]   2.03G  6.61MB/s    in 5m 19s  \n",
            "\n",
            "2019-03-28 11:23:07 (6.52 MB/s) - ‘glove.840B.300d.zip’ saved [2176768927/2176768927]\n",
            "\n",
            "Archive:  glove.840B.300d.zip\n",
            "  inflating: glove.840B.300d.txt     \n"
          ],
          "name": "stdout"
        }
      ]
    },
    {
      "metadata": {
        "id": "-RHsmNr6_YCV",
        "colab_type": "code",
        "colab": {}
      },
      "cell_type": "code",
      "source": [
        "word2vec_model = loadGloveModel2(GLOVE_MODEL_FILE)"
      ],
      "execution_count": 0,
      "outputs": []
    },
    {
      "metadata": {
        "id": "bI4SBwQcJaV7",
        "colab_type": "text"
      },
      "cell_type": "markdown",
      "source": [
        "## Dataset is loaded here"
      ]
    },
    {
      "metadata": {
        "id": "lq6cXvGOCSmI",
        "colab_type": "code",
        "cellView": "form",
        "colab": {}
      },
      "cell_type": "code",
      "source": [
        "#@title Select the type of file used \n",
        "\n",
        "type_of_file = 'X.json' #@param ['X.json','X.csv']"
      ],
      "execution_count": 0,
      "outputs": []
    },
    {
      "metadata": {
        "id": "PKMLECNi2mbL",
        "colab_type": "text"
      },
      "cell_type": "markdown",
      "source": [
        "### File type information\n",
        "\n",
        "If the file type is **.json** then each element should contain the following fields:-\n",
        "1.   Community\n",
        "2.   CounterSpeech\n",
        "3.   Category\n",
        "4.   commentText\n",
        "5.   id\n",
        "\n",
        "If the file type is **.csv** then it must have the following columns:-\n",
        "1.   Community\n",
        "2.   CounterSpeech\n",
        "3.   Category\n",
        "4.   commentText\n",
        "5.   id\n",
        "\n",
        "\n",
        "Note:- If you don't have the Category or  Community add an dummy element or column "
      ]
    },
    {
      "metadata": {
        "id": "5pMYvgeY2lDl",
        "colab_type": "code",
        "outputId": "3109c695-8c1b-4786-b3d0-3f77a53c7da7",
        "colab": {
          "base_uri": "https://localhost:8080/",
          "height": 289
        }
      },
      "cell_type": "code",
      "source": [
        "####CHANGE THE PATH OF THE FILE\n",
        "path_of_file='Countering_Hate_Speech/Data/Counterspeech_Dataset.json'\n",
        "\n",
        "def convert_class_label(input_text):\n",
        "    if input_text:\n",
        "        return 'counter'\n",
        "    else:\n",
        "        return 'noncounter'\n",
        "\n",
        "\n",
        "\n",
        "if(type_of_file=='X.json'):\n",
        "      with open(path_of_file) as fp:\n",
        "            train_data = json.load(fp)\n",
        "      pd_train = pd.DataFrame(columns=['id','class','community','category','text'])\n",
        "\n",
        "      for count, each in enumerate(train_data):\n",
        "          try:\n",
        "              pd_train.loc[count]  = [each['id'], convert_class_label(each['CounterSpeech']), each['Community'],each['Category'],each['commentText']]\n",
        "          except:\n",
        "              pass\n",
        "      print('Training Data Loading Completed...')\n",
        "elif(type_of_file=='X.csv'):\n",
        "      pd_train=pd.read_csv(path_of_the_file)\n",
        "      \n",
        "pd_train.head()            "
      ],
      "execution_count": 0,
      "outputs": [
        {
          "output_type": "stream",
          "text": [
            "Training Data Loading Completed...\n"
          ],
          "name": "stdout"
        },
        {
          "output_type": "execute_result",
          "data": {
            "text/html": [
              "<div>\n",
              "<style scoped>\n",
              "    .dataframe tbody tr th:only-of-type {\n",
              "        vertical-align: middle;\n",
              "    }\n",
              "\n",
              "    .dataframe tbody tr th {\n",
              "        vertical-align: top;\n",
              "    }\n",
              "\n",
              "    .dataframe thead th {\n",
              "        text-align: right;\n",
              "    }\n",
              "</style>\n",
              "<table border=\"1\" class=\"dataframe\">\n",
              "  <thead>\n",
              "    <tr style=\"text-align: right;\">\n",
              "      <th></th>\n",
              "      <th>id</th>\n",
              "      <th>class</th>\n",
              "      <th>community</th>\n",
              "      <th>category</th>\n",
              "      <th>text</th>\n",
              "    </tr>\n",
              "  </thead>\n",
              "  <tbody>\n",
              "    <tr>\n",
              "      <th>0</th>\n",
              "      <td>Ugw-_mfnTo9SUniGGTN4AaABAg</td>\n",
              "      <td>noncounter</td>\n",
              "      <td>jews</td>\n",
              "      <td>Default</td>\n",
              "      <td>she is one of the last brave white women with ...</td>\n",
              "    </tr>\n",
              "    <tr>\n",
              "      <th>1</th>\n",
              "      <td>UgiMOgO3u4akkngCoAEC</td>\n",
              "      <td>noncounter</td>\n",
              "      <td>lgbt</td>\n",
              "      <td>Default</td>\n",
              "      <td>AMEN PASTOR!!!!!!!!</td>\n",
              "    </tr>\n",
              "    <tr>\n",
              "      <th>2</th>\n",
              "      <td>UgzemCMbg-ri1ri7sCt4AaABAg</td>\n",
              "      <td>counter</td>\n",
              "      <td>jews</td>\n",
              "      <td>2,8</td>\n",
              "      <td>What kind of God is it that Hates people &amp; Cur...</td>\n",
              "    </tr>\n",
              "    <tr>\n",
              "      <th>3</th>\n",
              "      <td>UghFhzrURF1svHgCoAEC</td>\n",
              "      <td>counter</td>\n",
              "      <td>jews</td>\n",
              "      <td>8</td>\n",
              "      <td>Question - Which comment is racist and why?\\n ...</td>\n",
              "    </tr>\n",
              "    <tr>\n",
              "      <th>4</th>\n",
              "      <td>Ugzr50sQdH0Ictuex214AaABAg</td>\n",
              "      <td>counter</td>\n",
              "      <td>jews</td>\n",
              "      <td>8</td>\n",
              "      <td>That Israel fail that is nothing new. That Isr...</td>\n",
              "    </tr>\n",
              "  </tbody>\n",
              "</table>\n",
              "</div>"
            ],
            "text/plain": [
              "                           id       class community category  \\\n",
              "0  Ugw-_mfnTo9SUniGGTN4AaABAg  noncounter      jews  Default   \n",
              "1        UgiMOgO3u4akkngCoAEC  noncounter      lgbt  Default   \n",
              "2  UgzemCMbg-ri1ri7sCt4AaABAg     counter      jews      2,8   \n",
              "3        UghFhzrURF1svHgCoAEC     counter      jews        8   \n",
              "4  Ugzr50sQdH0Ictuex214AaABAg     counter      jews        8   \n",
              "\n",
              "                                                text  \n",
              "0  she is one of the last brave white women with ...  \n",
              "1                                AMEN PASTOR!!!!!!!!  \n",
              "2  What kind of God is it that Hates people & Cur...  \n",
              "3  Question - Which comment is racist and why?\\n ...  \n",
              "4  That Israel fail that is nothing new. That Isr...  "
            ]
          },
          "metadata": {
            "tags": []
          },
          "execution_count": 7
        }
      ]
    },
    {
      "metadata": {
        "id": "t0zmHmD7CAnQ",
        "colab_type": "code",
        "outputId": "4f23b813-b0b5-4ba0-8dea-4232299dd763",
        "colab": {
          "base_uri": "https://localhost:8080/",
          "height": 289
        }
      },
      "cell_type": "code",
      "source": [
        "#@title How your dataframe should look like after extraction {display-mode: \"form\"}\n",
        "\n",
        "# This code will be hidden when the notebook is loaded.\n",
        "\n",
        "path_of_data_file='Countering_Hate_Speech/Data/Counterspeech_Dataset.json'\n",
        "\n",
        "def convert_class_label(input_text):\n",
        "    if input_text:\n",
        "        return 'counter'\n",
        "    else:\n",
        "        return 'noncounter'\n",
        "with open(path_of_data_file) as fp:\n",
        "      train_data = json.load(fp)\n",
        "pd_train_sample = pd.DataFrame(columns=['id','class','community','category','text'])\n",
        "\n",
        "for count, each in enumerate(train_data):\n",
        "    try:\n",
        "        pd_train_sample.loc[count]  = [each['id'], convert_class_label(each['CounterSpeech']), each['Community'],each['Category'],each['commentText']]\n",
        "    except:\n",
        "        pass\n",
        "print('Training Data Loading Completed...')\n",
        "pd_train_sample.head()"
      ],
      "execution_count": 0,
      "outputs": [
        {
          "output_type": "stream",
          "text": [
            "Training Data Loading Completed...\n"
          ],
          "name": "stdout"
        },
        {
          "output_type": "execute_result",
          "data": {
            "text/html": [
              "<div>\n",
              "<style scoped>\n",
              "    .dataframe tbody tr th:only-of-type {\n",
              "        vertical-align: middle;\n",
              "    }\n",
              "\n",
              "    .dataframe tbody tr th {\n",
              "        vertical-align: top;\n",
              "    }\n",
              "\n",
              "    .dataframe thead th {\n",
              "        text-align: right;\n",
              "    }\n",
              "</style>\n",
              "<table border=\"1\" class=\"dataframe\">\n",
              "  <thead>\n",
              "    <tr style=\"text-align: right;\">\n",
              "      <th></th>\n",
              "      <th>id</th>\n",
              "      <th>class</th>\n",
              "      <th>community</th>\n",
              "      <th>category</th>\n",
              "      <th>text</th>\n",
              "    </tr>\n",
              "  </thead>\n",
              "  <tbody>\n",
              "    <tr>\n",
              "      <th>0</th>\n",
              "      <td>Ugw-_mfnTo9SUniGGTN4AaABAg</td>\n",
              "      <td>noncounter</td>\n",
              "      <td>jews</td>\n",
              "      <td>Default</td>\n",
              "      <td>she is one of the last brave white women with ...</td>\n",
              "    </tr>\n",
              "    <tr>\n",
              "      <th>1</th>\n",
              "      <td>UgiMOgO3u4akkngCoAEC</td>\n",
              "      <td>noncounter</td>\n",
              "      <td>lgbt</td>\n",
              "      <td>Default</td>\n",
              "      <td>AMEN PASTOR!!!!!!!!</td>\n",
              "    </tr>\n",
              "    <tr>\n",
              "      <th>2</th>\n",
              "      <td>UgzemCMbg-ri1ri7sCt4AaABAg</td>\n",
              "      <td>counter</td>\n",
              "      <td>jews</td>\n",
              "      <td>2,8</td>\n",
              "      <td>What kind of God is it that Hates people &amp; Cur...</td>\n",
              "    </tr>\n",
              "    <tr>\n",
              "      <th>3</th>\n",
              "      <td>UghFhzrURF1svHgCoAEC</td>\n",
              "      <td>counter</td>\n",
              "      <td>jews</td>\n",
              "      <td>8</td>\n",
              "      <td>Question - Which comment is racist and why?\\n ...</td>\n",
              "    </tr>\n",
              "    <tr>\n",
              "      <th>4</th>\n",
              "      <td>Ugzr50sQdH0Ictuex214AaABAg</td>\n",
              "      <td>counter</td>\n",
              "      <td>jews</td>\n",
              "      <td>8</td>\n",
              "      <td>That Israel fail that is nothing new. That Isr...</td>\n",
              "    </tr>\n",
              "  </tbody>\n",
              "</table>\n",
              "</div>"
            ],
            "text/plain": [
              "                           id       class community category  \\\n",
              "0  Ugw-_mfnTo9SUniGGTN4AaABAg  noncounter      jews  Default   \n",
              "1        UgiMOgO3u4akkngCoAEC  noncounter      lgbt  Default   \n",
              "2  UgzemCMbg-ri1ri7sCt4AaABAg     counter      jews      2,8   \n",
              "3        UghFhzrURF1svHgCoAEC     counter      jews        8   \n",
              "4  Ugzr50sQdH0Ictuex214AaABAg     counter      jews        8   \n",
              "\n",
              "                                                text  \n",
              "0  she is one of the last brave white women with ...  \n",
              "1                                AMEN PASTOR!!!!!!!!  \n",
              "2  What kind of God is it that Hates people & Cur...  \n",
              "3  Question - Which comment is racist and why?\\n ...  \n",
              "4  That Israel fail that is nothing new. That Isr...  "
            ]
          },
          "metadata": {
            "tags": []
          },
          "execution_count": 8
        }
      ]
    },
    {
      "metadata": {
        "id": "Tq453rXyyKRy",
        "colab_type": "code",
        "colab": {}
      },
      "cell_type": "code",
      "source": [
        "pd_train['text'].replace('', np.nan, inplace=True)\n",
        "pd_train.dropna(subset=['text'], inplace=True)"
      ],
      "execution_count": 0,
      "outputs": []
    },
    {
      "metadata": {
        "id": "CVuL2Krg0FJ0",
        "colab_type": "code",
        "outputId": "7049fe6c-abe1-4d72-c707-03579df618aa",
        "colab": {
          "base_uri": "https://localhost:8080/",
          "height": 190
        }
      },
      "cell_type": "code",
      "source": [
        "import sys\n",
        "\n",
        "####features module has the necessary function for feature generation \n",
        "from Countering_Hate_Speech.utils import features\n",
        "from Countering_Hate_Speech.utils import multi_features\n",
        "###tokenize module has the tokenization funciton\n",
        "from Countering_Hate_Speech.utils.tokenize import *\n",
        "###helper prints confusion  matrix and stores results\n",
        "from Countering_Hate_Speech.utils.helper import *\n",
        "###common preprocessing imports\n",
        "from Countering_Hate_Speech.utils.commen_preprocess import *\n"
      ],
      "execution_count": 0,
      "outputs": [
        {
          "output_type": "stream",
          "text": [
            "....start....cleaning\n"
          ],
          "name": "stdout"
        },
        {
          "output_type": "stream",
          "text": [
            "WARNING: Logging before flag parsing goes to stderr.\n",
            "W0328 11:47:01.342070 140315258214272 __init__.py:56] Some hub symbols are not available because TensorFlow version is less than 1.14\n"
          ],
          "name": "stderr"
        },
        {
          "output_type": "stream",
          "text": [
            "WARNING:tensorflow:From /usr/local/lib/python3.6/dist-packages/tensorflow/python/ops/control_flow_ops.py:3632: colocate_with (from tensorflow.python.framework.ops) is deprecated and will be removed in a future version.\n",
            "Instructions for updating:\n",
            "Colocations handled automatically by placer.\n"
          ],
          "name": "stdout"
        },
        {
          "output_type": "stream",
          "text": [
            "W0328 11:47:18.272865 140315258214272 deprecation.py:323] From /usr/local/lib/python3.6/dist-packages/tensorflow/python/ops/control_flow_ops.py:3632: colocate_with (from tensorflow.python.framework.ops) is deprecated and will be removed in a future version.\n",
            "Instructions for updating:\n",
            "Colocations handled automatically by placer.\n"
          ],
          "name": "stderr"
        }
      ]
    },
    {
      "metadata": {
        "id": "XHGhSG8dM-4O",
        "colab_type": "text"
      },
      "cell_type": "markdown",
      "source": [
        "#### Next few sections cover three different classifiers  namely - \n",
        "\n",
        "*   Binary classification \n",
        "*   Multlabel classification\n",
        "*   Cross community \n",
        "\n",
        "You can run the cells corresponding to the result you want to analyse.\n",
        "\n"
      ]
    },
    {
      "metadata": {
        "id": "ltvQYvwtNnlN",
        "colab_type": "text"
      },
      "cell_type": "markdown",
      "source": [
        "### **Binary Classification**"
      ]
    },
    {
      "metadata": {
        "id": "D8Lqz7bJzHNI",
        "colab_type": "code",
        "outputId": "20f0b69d-50a5-4e21-c917-d5d28542b7cd",
        "colab": {
          "base_uri": "https://localhost:8080/",
          "height": 559
        }
      },
      "cell_type": "code",
      "source": [
        "X,y= features.combine_tf_rem_google_rem_embed(pd_train,word2vec_model)\n",
        "\n",
        "label_map = {\n",
        "        'counter': 0,\n",
        "        'noncounter': 1\n",
        "    }\n",
        "temp=[]\n",
        "for data in y:\n",
        "        temp.append(label_map[data])\n",
        "\n",
        "y=np.array(temp)\n",
        "\n",
        "\n",
        "y_pred=best_binary_classifier.predict(X)\n",
        "report = classification_report(y, y_pred)\n",
        "cm=confusion_matrix(y, y_pred)\n",
        "plt=plot_confusion_matrix(cm,normalize= True,target_names = ['counter','non_counter'],title = \"Confusion Matrix\")\n",
        "plt.savefig('Confusion_matrix.png')\n",
        "df_result=pandas_classification_report(y,y_pred)\n",
        "df_result.to_csv('Classification_Report.csv',  sep=',')\n",
        "print(\"You can download the files from the file directory now \")"
      ],
      "execution_count": 0,
      "outputs": [
        {
          "output_type": "stream",
          "text": [
            "INFO:tensorflow:Saver not created because there are no variables in the graph to restore\n"
          ],
          "name": "stdout"
        },
        {
          "output_type": "stream",
          "text": [
            "I0328 11:47:43.327548 140315258214272 saver.py:1483] Saver not created because there are no variables in the graph to restore\n"
          ],
          "name": "stderr"
        },
        {
          "output_type": "stream",
          "text": [
            "ending\n"
          ],
          "name": "stdout"
        },
        {
          "output_type": "stream",
          "text": [
            "/usr/local/lib/python3.6/dist-packages/sklearn/feature_extraction/text.py:301: UserWarning: Your stop_words may be inconsistent with your preprocessing. Tokenizing the stop words generated tokens ['fifti'] not in stop_words.\n",
            "  'stop_words.' % sorted(inconsistent))\n"
          ],
          "name": "stderr"
        },
        {
          "output_type": "stream",
          "text": [
            "You can download the files from the file directory now \n"
          ],
          "name": "stdout"
        },
        {
          "output_type": "display_data",
          "data": {
            "image/png": "[encoded data removed]",
            "text/plain": [
              "<Figure size 576x432 with 2 Axes>"
            ]
          },
          "metadata": {
            "tags": []
          }
        }
      ]
    },
    {
      "metadata": {
        "id": "dZF1Qe-7L7Cc",
        "colab_type": "text"
      },
      "cell_type": "markdown",
      "source": [
        "### **Multilabel Classification**"
      ]
    },
    {
      "metadata": {
        "id": "JXw_ex7CMR5D",
        "colab_type": "code",
        "outputId": "3baec622-656c-47eb-95f7-8d83a50512b8",
        "colab": {
          "base_uri": "https://localhost:8080/",
          "height": 326
        }
      },
      "cell_type": "code",
      "source": [
        "import scipy\n",
        "\n",
        "pd_train_multilabel =pd_train.copy()\n",
        "pd_train_multilabel =pd_train_multilabel[pd_train_multilabel['category']!='Default']\n",
        "list1=[[],[],[],[],[],[],[],[],[],[]]\n",
        "for ele in pd_train_multilabel['category']:\n",
        "    temp=[]\n",
        "    if type(ele) is int:\n",
        "        ele =str(ele)\n",
        "    for i in range(0,len(ele),2):\n",
        "        temp.append(ord(ele[i])-ord('0'))\n",
        "    #print(temp)\n",
        "    if(len(temp)==0):\n",
        "        print(temp)\n",
        "    for i in range(0,10):\n",
        "        if i+1 in temp:\n",
        "            list1[i].append(1)\n",
        "        else:\n",
        "            list1[i].append(0)\n",
        "y_train=np.array([np.array(xi) for xi in list1])\n",
        "\n",
        "### final dataframe for the task created \n",
        "pd_train_multilabel = pd.DataFrame({'text':list(pd_train_multilabel['text']),'cat0':list1[0],'cat1':list1[1],'cat2':list1[2],'cat3':list1[3],'cat4':list1[4],'cat5':list1[5],'cat6':list1[6],'cat7':list1[7],'cat8':list1[8],'cat9':list1[9]})\n",
        "### drop the entries having blank entries\n",
        "pd_train_multilabel['text'].replace('', np.nan, inplace=True)\n",
        "pd_train_multilabel.dropna(subset=['text'], inplace=True)\n",
        "\n",
        "\n",
        "\n",
        "\n",
        "\n",
        "X,y= multi_features.combine_tf_rem_google_rem_embed(pd_train_multilabel,word2vec_model)\n",
        "path='multilabel_res'\n",
        "os.makedirs(path, exist_ok=True)\n",
        "X = np.array(X)\n",
        "y = np.array(y)\n",
        "y_pred = best_multiclass_classifier.predict(X)\n",
        "if(scipy.sparse.issparse(y_pred)):\n",
        "   ham,acc,pre,rec,f1=calculate_score(y,y_pred.toarray())\n",
        "   accuracy_test=accuracy_score(y,y_pred.toarray())\n",
        "\n",
        "else:\n",
        "   ham,acc,pre,rec,f1=calculate_score(y,y_pred)\n",
        "   accuracy_test=my_accuracy_score(y,y_pred)\n",
        "\n",
        "  \n",
        "for i in range(10):\n",
        "    df_result=pandas_classification_report(y[:,i],y_pred[:,i])\n",
        "    df_result.to_csv(path+'/report'+str(i)+'.csv')\n",
        "\n",
        "\n",
        "f = open(path+'/final_report.txt', \"w\")\n",
        "f.write(\"best_model\")  \n",
        "f.write(\"The hard metric score is :- \" + str(accuracy_test))\n",
        "f.write(\"The accuracy is :- \" + str(acc))\n",
        "f.write(\"The precision is :- \" + str(pre))\n",
        "f.write(\"The recall is :- \" + str(rec))\n",
        "f.write(\"The f1_score is :- \" + str(f1))\n",
        "f.write(\"The hamming loss is :-\" + str(ham))\n",
        "f.close()\n",
        "  \n",
        "    \n",
        "!zip -r mulitlabel_results.zip multilabel_res\n"
      ],
      "execution_count": 0,
      "outputs": [
        {
          "output_type": "stream",
          "text": [
            "INFO:tensorflow:Saver not created because there are no variables in the graph to restore\n"
          ],
          "name": "stdout"
        },
        {
          "output_type": "stream",
          "text": [
            "I0328 12:13:22.785738 140315258214272 saver.py:1483] Saver not created because there are no variables in the graph to restore\n"
          ],
          "name": "stderr"
        },
        {
          "output_type": "stream",
          "text": [
            "ending\n"
          ],
          "name": "stdout"
        },
        {
          "output_type": "stream",
          "text": [
            "/usr/local/lib/python3.6/dist-packages/sklearn/feature_extraction/text.py:301: UserWarning: Your stop_words may be inconsistent with your preprocessing. Tokenizing the stop words generated tokens ['fifti'] not in stop_words.\n",
            "  'stop_words.' % sorted(inconsistent))\n"
          ],
          "name": "stderr"
        },
        {
          "output_type": "stream",
          "text": [
            "  adding: multilabel_res/ (stored 0%)\n",
            "  adding: multilabel_res/report9.csv (deflated 33%)\n",
            "  adding: multilabel_res/report3.csv (deflated 40%)\n",
            "  adding: multilabel_res/report7.csv (deflated 39%)\n",
            "  adding: multilabel_res/report6.csv (deflated 36%)\n",
            "  adding: multilabel_res/report2.csv (deflated 38%)\n",
            "  adding: multilabel_res/report1.csv (deflated 39%)\n",
            "  adding: multilabel_res/report0.csv (deflated 38%)\n",
            "  adding: multilabel_res/final_report.txt (deflated 35%)\n",
            "  adding: multilabel_res/report8.csv (deflated 40%)\n",
            "  adding: multilabel_res/report5.csv (deflated 33%)\n",
            "  adding: multilabel_res/report4.csv (deflated 39%)\n"
          ],
          "name": "stdout"
        }
      ]
    },
    {
      "metadata": {
        "id": "18G3RymGPNBn",
        "colab_type": "text"
      },
      "cell_type": "markdown",
      "source": [
        "### **Cross CommunityClassification**"
      ]
    },
    {
      "metadata": {
        "id": "J2QBBDqrYywy",
        "colab_type": "code",
        "outputId": "55c742ed-7ada-44fc-d022-081736291940",
        "colab": {
          "base_uri": "https://localhost:8080/",
          "height": 224
        }
      },
      "cell_type": "code",
      "source": [
        "pd_cross=pd_train.copy()\n",
        "part_j=pd_cross.loc[pd_train['community']=='jews']\n",
        "part_b=pd_cross.loc[pd_train['community']=='black']\n",
        "part_l=pd_cross.loc[pd_train['community']=='lgbt']\n",
        "X_black,y_black= features.combine_tf_rem_google_rem_embed(part_b,word2vec_model)\n",
        "X_jew,y_jew= features.combine_tf_rem_google_rem_embed(part_j,word2vec_model)\n",
        "X_lgbt,y_lgbt= features.combine_tf_rem_google_rem_embed(part_l,word2vec_model)\n"
      ],
      "execution_count": 0,
      "outputs": [
        {
          "output_type": "stream",
          "text": [
            "INFO:tensorflow:Saver not created because there are no variables in the graph to restore\n"
          ],
          "name": "stdout"
        },
        {
          "output_type": "stream",
          "text": [
            "I0328 13:36:00.798877 140315258214272 saver.py:1483] Saver not created because there are no variables in the graph to restore\n"
          ],
          "name": "stderr"
        },
        {
          "output_type": "stream",
          "text": [
            "ending\n"
          ],
          "name": "stdout"
        },
        {
          "output_type": "stream",
          "text": [
            "/usr/local/lib/python3.6/dist-packages/sklearn/feature_extraction/text.py:301: UserWarning: Your stop_words may be inconsistent with your preprocessing. Tokenizing the stop words generated tokens ['fifti'] not in stop_words.\n",
            "  'stop_words.' % sorted(inconsistent))\n"
          ],
          "name": "stderr"
        },
        {
          "output_type": "stream",
          "text": [
            "INFO:tensorflow:Saver not created because there are no variables in the graph to restore\n"
          ],
          "name": "stdout"
        },
        {
          "output_type": "stream",
          "text": [
            "I0328 13:36:40.198019 140315258214272 saver.py:1483] Saver not created because there are no variables in the graph to restore\n"
          ],
          "name": "stderr"
        },
        {
          "output_type": "stream",
          "text": [
            "ending\n",
            "INFO:tensorflow:Saver not created because there are no variables in the graph to restore\n"
          ],
          "name": "stdout"
        },
        {
          "output_type": "stream",
          "text": [
            "I0328 13:37:38.361577 140315258214272 saver.py:1483] Saver not created because there are no variables in the graph to restore\n"
          ],
          "name": "stderr"
        },
        {
          "output_type": "stream",
          "text": [
            "ending\n"
          ],
          "name": "stdout"
        }
      ]
    },
    {
      "metadata": {
        "id": "3f6okcKciG04",
        "colab_type": "code",
        "outputId": "d7657563-be68-46da-e72f-b954b9481f71",
        "colab": {
          "base_uri": "https://localhost:8080/",
          "height": 454
        }
      },
      "cell_type": "code",
      "source": [
        "label_map = {\n",
        "        'counter': 0,\n",
        "        'noncounter': 1\n",
        "    }\n",
        "temp=[]\n",
        "for data in y_black:\n",
        "        temp.append(label_map[data])\n",
        "\n",
        "y_black=np.array(temp)\n",
        "\n",
        "\n",
        "y_pred_black=best_black_classifier.predict(X_black)\n",
        "report = classification_report(y_black, y_pred_black)\n",
        "cm=confusion_matrix(y_black, y_pred_black)\n",
        "plt=plot_confusion_matrix(cm,normalize= True,target_names = ['counter','non_counter'],title = \"Confusion Matrix\")\n",
        "plt.savefig('black_Confusion_matrix.png')\n",
        "df_result=pandas_classification_report(y_black,y_pred_black)\n",
        "df_result.to_csv('black_Classification_Report.csv',  sep=',')\n",
        "print(\"You can download the files from the file directory now \")"
      ],
      "execution_count": 0,
      "outputs": [
        {
          "output_type": "stream",
          "text": [
            "You can download the files from the file directory now \n"
          ],
          "name": "stdout"
        },
        {
          "output_type": "display_data",
          "data": {
            "image/png": "[encoded data removed]",
            "text/plain": [
              "<Figure size 576x432 with 2 Axes>"
            ]
          },
          "metadata": {
            "tags": []
          }
        }
      ]
    },
    {
      "metadata": {
        "id": "dcpLid7Lgu0O",
        "colab_type": "code",
        "outputId": "c3e52c5a-a4b6-45ff-c840-8c32a2f4e101",
        "colab": {
          "base_uri": "https://localhost:8080/",
          "height": 437
        }
      },
      "cell_type": "code",
      "source": [
        "label_map = {\n",
        "        'counter': 0,\n",
        "        'noncounter': 1\n",
        "    }\n",
        "temp=[]\n",
        "for data in y_jew:\n",
        "        temp.append(label_map[data])\n",
        "\n",
        "y_jew=np.array(temp)\n",
        "\n",
        "\n",
        "y_pred_jew=best_jew_classifier.predict(X_jew)\n",
        "report = classification_report(y_jew, y_pred_jew)\n",
        "cm=confusion_matrix(y_jew, y_pred_jew)\n",
        "plt=plot_confusion_matrix(cm,normalize= True,target_names = ['counter','non_counter'],title = \"Confusion Matrix\")\n",
        "plt.savefig('jew_Confusion_matrix.png')\n",
        "df_result=pandas_classification_report(y_jew,y_pred_jew)\n",
        "df_result.to_csv('jew_Classification_Report.csv',  sep=',')\n",
        "print(\"You can download the files from the file directory now \")"
      ],
      "execution_count": 0,
      "outputs": [
        {
          "output_type": "display_data",
          "data": {
            "image/png": "[encoded data removed]",
            "text/plain": [
              "<Figure size 576x432 with 2 Axes>"
            ]
          },
          "metadata": {
            "tags": []
          }
        }
      ]
    },
    {
      "metadata": {
        "id": "mmb6-16Hg4Rq",
        "colab_type": "code",
        "outputId": "fd59f48b-6fac-42d7-80c1-db1a598224c5",
        "colab": {
          "base_uri": "https://localhost:8080/",
          "height": 437
        }
      },
      "cell_type": "code",
      "source": [
        "label_map = {\n",
        "        'counter': 0,\n",
        "        'noncounter': 1\n",
        "    }\n",
        "temp=[]\n",
        "for data in y_lgbt:\n",
        "        temp.append(label_map[data])\n",
        "\n",
        "y_lgbt=np.array(temp)\n",
        "\n",
        "\n",
        "y_pred_lgbt=best_lgbt_classifier.predict(X_lgbt)\n",
        "report = classification_report(y_lgbt, y_pred_lgbt)\n",
        "cm=confusion_matrix(y_lgbt, y_pred_lgbt)\n",
        "plt=plot_confusion_matrix(cm,normalize= True,target_names = ['counter','non_counter'],title = \"Confusion Matrix\")\n",
        "plt.savefig('lgbt_Confusion_matrix.png')\n",
        "df_result=pandas_classification_report(y_lgbt,y_pred_lgbt)\n",
        "df_result.to_csv('lgbt_Classification_Report.csv',  sep=',')\n",
        "print(\"You can download the files from the file directory now \")"
      ],
      "execution_count": 0,
      "outputs": [
        {
          "output_type": "display_data",
          "data": {
            "image/png": "[encoded data removed]",
            "text/plain": [
              "<Figure size 576x432 with 2 Axes>"
            ]
          },
          "metadata": {
            "tags": []
          }
        }
      ]
    }
  ]
}